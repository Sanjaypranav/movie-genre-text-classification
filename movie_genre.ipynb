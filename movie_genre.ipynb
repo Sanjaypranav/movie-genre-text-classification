{
 "cells": [
  {
   "cell_type": "code",
   "execution_count": 3,
   "metadata": {
    "id": "fz7lERGGhazp"
   },
   "outputs": [],
   "source": [
    "#@title Load data\n",
    "# from mlxtend.preprocessing import TransactionEncoder\n",
    "import pickle\n"
   ]
  },
  {
   "cell_type": "code",
   "execution_count": 4,
   "metadata": {
    "id": "KRNpaKp8-6Jr"
   },
   "outputs": [],
   "source": [
    "p_f = pickle.load(open('Models/vectorizer.pkl','rb'))\n",
    "p_t = pickle.load(open('Models/target_label.pkl','rb'))\n",
    "model = pickle.load(open('Models/movie_model.pkl','rb'))"
   ]
  },
  {
   "cell_type": "code",
   "execution_count": 10,
   "metadata": {},
   "outputs": [
    {
     "ename": "SyntaxError",
     "evalue": "invalid syntax (2833554179.py, line 1)",
     "output_type": "error",
     "traceback": [
      "\u001b[0;36m  File \u001b[0;32m\"/tmp/ipykernel_20453/2833554179.py\"\u001b[0;36m, line \u001b[0;32m1\u001b[0m\n\u001b[0;31m    p_t.inverse_transform(model.predict(p_f.transform([\"James Cameron's \"Titanic\" is an epic, action-packed romance set against the ill-fated maiden voyage of the R.M.S. Titanic; the pride and joy of the White Star Line and, at the time, the largest moving object ever built. She was the most luxurious liner of her era -- the \"ship of dreams\" -- which ultimately carried over 1,500 people to their death in the ice cold waters of the North Atlantic in the early hours of April 15, 1912.\"]).toarray()))\u001b[0m\n\u001b[0m                                                                         ^\u001b[0m\n\u001b[0;31mSyntaxError\u001b[0m\u001b[0;31m:\u001b[0m invalid syntax\n"
     ]
    }
   ],
   "source": [
    "p_t.inverse_transform(model.predict(p_f.transform(['''James Cameron's \"Titanic\" is an epic, action-packed romance set against the ill-fated maiden voyage of the R.M.S. Titanic; the pride and joy of the White Star Line and, at the time, the largest moving object ever built. She was the most luxurious liner of her era -- the \"ship of dreams\" -- which ultimately carried over 1,500 people to their death in the ice cold waters of the North Atlantic in the early hours of April 15, 1912.\"''']).toarray()))"
   ]
  }
 ],
 "metadata": {
  "colab": {
   "collapsed_sections": [],
   "name": "disney.ipynb",
   "provenance": []
  },
  "interpreter": {
   "hash": "76b09082af4bf223ce4145d1ca50389957abfef6c8f25d687410e68089bdb78c"
  },
  "kernelspec": {
   "display_name": "Python 3.8.10 64-bit ('machine_learning': virtualenv)",
   "language": "python",
   "name": "python3810jvsc74a57bd076b09082af4bf223ce4145d1ca50389957abfef6c8f25d687410e68089bdb78c"
  },
  "language_info": {
   "codemirror_mode": {
    "name": "ipython",
    "version": 3
   },
   "file_extension": ".py",
   "mimetype": "text/x-python",
   "name": "python",
   "nbconvert_exporter": "python",
   "pygments_lexer": "ipython3",
   "version": "3.8.10"
  }
 },
 "nbformat": 4,
 "nbformat_minor": 1
}
